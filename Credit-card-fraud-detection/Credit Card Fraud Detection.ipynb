{
 "cells": [
  {
   "cell_type": "code",
   "execution_count": 1,
   "id": "25df2e10",
   "metadata": {},
   "outputs": [],
   "source": [
    "import pandas as pd #initailse libraies(load dataset in form of data fram)\n",
    "import matplotlib.pyplot as plt #libraies help withdata visualisation\n",
    "import numpy as np"
   ]
  },
  {
   "cell_type": "code",
   "execution_count": 2,
   "id": "eae50222",
   "metadata": {
    "scrolled": true
   },
   "outputs": [],
   "source": [
    "cc = pd.read_csv(\"C:\\\\Users\\\\Shirley\\\\Downloads\\\\User0_credit_card_transactions.csv\")"
   ]
  },
  {
   "cell_type": "code",
   "execution_count": 3,
   "id": "58c6b8b5",
   "metadata": {},
   "outputs": [
    {
     "data": {
      "text/html": [
       "<div>\n",
       "<style scoped>\n",
       "    .dataframe tbody tr th:only-of-type {\n",
       "        vertical-align: middle;\n",
       "    }\n",
       "\n",
       "    .dataframe tbody tr th {\n",
       "        vertical-align: top;\n",
       "    }\n",
       "\n",
       "    .dataframe thead th {\n",
       "        text-align: right;\n",
       "    }\n",
       "</style>\n",
       "<table border=\"1\" class=\"dataframe\">\n",
       "  <thead>\n",
       "    <tr style=\"text-align: right;\">\n",
       "      <th></th>\n",
       "      <th>User</th>\n",
       "      <th>Card</th>\n",
       "      <th>Year</th>\n",
       "      <th>Month</th>\n",
       "      <th>Day</th>\n",
       "      <th>Time</th>\n",
       "      <th>Amount</th>\n",
       "      <th>Merchant Name</th>\n",
       "      <th>Zip</th>\n",
       "      <th>MCC</th>\n",
       "      <th>Class</th>\n",
       "    </tr>\n",
       "  </thead>\n",
       "  <tbody>\n",
       "    <tr>\n",
       "      <th>0</th>\n",
       "      <td>0</td>\n",
       "      <td>0</td>\n",
       "      <td>2002</td>\n",
       "      <td>9</td>\n",
       "      <td>1</td>\n",
       "      <td>06:21</td>\n",
       "      <td>134.09</td>\n",
       "      <td>3.527210e+18</td>\n",
       "      <td>91750.0</td>\n",
       "      <td>5300</td>\n",
       "      <td>0</td>\n",
       "    </tr>\n",
       "    <tr>\n",
       "      <th>1</th>\n",
       "      <td>0</td>\n",
       "      <td>0</td>\n",
       "      <td>2002</td>\n",
       "      <td>9</td>\n",
       "      <td>1</td>\n",
       "      <td>06:42</td>\n",
       "      <td>38.48</td>\n",
       "      <td>-7.276120e+17</td>\n",
       "      <td>91754.0</td>\n",
       "      <td>5411</td>\n",
       "      <td>0</td>\n",
       "    </tr>\n",
       "    <tr>\n",
       "      <th>2</th>\n",
       "      <td>0</td>\n",
       "      <td>0</td>\n",
       "      <td>2002</td>\n",
       "      <td>9</td>\n",
       "      <td>2</td>\n",
       "      <td>06:22</td>\n",
       "      <td>120.34</td>\n",
       "      <td>-7.276120e+17</td>\n",
       "      <td>91754.0</td>\n",
       "      <td>5411</td>\n",
       "      <td>0</td>\n",
       "    </tr>\n",
       "    <tr>\n",
       "      <th>3</th>\n",
       "      <td>0</td>\n",
       "      <td>0</td>\n",
       "      <td>2002</td>\n",
       "      <td>9</td>\n",
       "      <td>2</td>\n",
       "      <td>17:45</td>\n",
       "      <td>128.95</td>\n",
       "      <td>3.414530e+18</td>\n",
       "      <td>91754.0</td>\n",
       "      <td>5651</td>\n",
       "      <td>0</td>\n",
       "    </tr>\n",
       "    <tr>\n",
       "      <th>4</th>\n",
       "      <td>0</td>\n",
       "      <td>0</td>\n",
       "      <td>2002</td>\n",
       "      <td>9</td>\n",
       "      <td>3</td>\n",
       "      <td>06:23</td>\n",
       "      <td>104.71</td>\n",
       "      <td>5.817220e+18</td>\n",
       "      <td>91750.0</td>\n",
       "      <td>5912</td>\n",
       "      <td>0</td>\n",
       "    </tr>\n",
       "  </tbody>\n",
       "</table>\n",
       "</div>"
      ],
      "text/plain": [
       "   User  Card  Year  Month  Day   Time  Amount  Merchant Name      Zip   MCC  \\\n",
       "0     0     0  2002      9    1  06:21  134.09   3.527210e+18  91750.0  5300   \n",
       "1     0     0  2002      9    1  06:42   38.48  -7.276120e+17  91754.0  5411   \n",
       "2     0     0  2002      9    2  06:22  120.34  -7.276120e+17  91754.0  5411   \n",
       "3     0     0  2002      9    2  17:45  128.95   3.414530e+18  91754.0  5651   \n",
       "4     0     0  2002      9    3  06:23  104.71   5.817220e+18  91750.0  5912   \n",
       "\n",
       "   Class  \n",
       "0      0  \n",
       "1      0  \n",
       "2      0  \n",
       "3      0  \n",
       "4      0  "
      ]
     },
     "execution_count": 3,
     "metadata": {},
     "output_type": "execute_result"
    }
   ],
   "source": [
    "cc.head()"
   ]
  },
  {
   "cell_type": "code",
   "execution_count": 4,
   "id": "6f5e628a",
   "metadata": {
    "scrolled": false
   },
   "outputs": [
    {
     "data": {
      "text/plain": [
       "(19963, 11)"
      ]
     },
     "execution_count": 4,
     "metadata": {},
     "output_type": "execute_result"
    }
   ],
   "source": [
    "cc.shape #displays record and columns"
   ]
  },
  {
   "cell_type": "code",
   "execution_count": 5,
   "id": "2f8dad81",
   "metadata": {},
   "outputs": [
    {
     "data": {
      "text/html": [
       "<div>\n",
       "<style scoped>\n",
       "    .dataframe tbody tr th:only-of-type {\n",
       "        vertical-align: middle;\n",
       "    }\n",
       "\n",
       "    .dataframe tbody tr th {\n",
       "        vertical-align: top;\n",
       "    }\n",
       "\n",
       "    .dataframe thead th {\n",
       "        text-align: right;\n",
       "    }\n",
       "</style>\n",
       "<table border=\"1\" class=\"dataframe\">\n",
       "  <thead>\n",
       "    <tr style=\"text-align: right;\">\n",
       "      <th></th>\n",
       "      <th>User</th>\n",
       "      <th>Card</th>\n",
       "      <th>Year</th>\n",
       "      <th>Month</th>\n",
       "      <th>Day</th>\n",
       "      <th>Amount</th>\n",
       "      <th>Merchant Name</th>\n",
       "      <th>Zip</th>\n",
       "      <th>MCC</th>\n",
       "      <th>Class</th>\n",
       "    </tr>\n",
       "  </thead>\n",
       "  <tbody>\n",
       "    <tr>\n",
       "      <th>count</th>\n",
       "      <td>19963.0</td>\n",
       "      <td>19963.000000</td>\n",
       "      <td>19963.000000</td>\n",
       "      <td>19963.000000</td>\n",
       "      <td>19963.000000</td>\n",
       "      <td>19963.000000</td>\n",
       "      <td>1.996300e+04</td>\n",
       "      <td>18316.000000</td>\n",
       "      <td>19963.000000</td>\n",
       "      <td>19963.000000</td>\n",
       "    </tr>\n",
       "    <tr>\n",
       "      <th>mean</th>\n",
       "      <td>0.0</td>\n",
       "      <td>1.910735</td>\n",
       "      <td>2011.011922</td>\n",
       "      <td>6.568101</td>\n",
       "      <td>15.743876</td>\n",
       "      <td>81.299989</td>\n",
       "      <td>7.825657e+17</td>\n",
       "      <td>88812.744922</td>\n",
       "      <td>5617.940239</td>\n",
       "      <td>0.001353</td>\n",
       "    </tr>\n",
       "    <tr>\n",
       "      <th>std</th>\n",
       "      <td>0.0</td>\n",
       "      <td>1.237763</td>\n",
       "      <td>5.048146</td>\n",
       "      <td>3.477497</td>\n",
       "      <td>8.801378</td>\n",
       "      <td>94.159093</td>\n",
       "      <td>4.040602e+18</td>\n",
       "      <td>13711.491085</td>\n",
       "      <td>707.982901</td>\n",
       "      <td>0.036752</td>\n",
       "    </tr>\n",
       "    <tr>\n",
       "      <th>min</th>\n",
       "      <td>0.0</td>\n",
       "      <td>0.000000</td>\n",
       "      <td>2002.000000</td>\n",
       "      <td>1.000000</td>\n",
       "      <td>1.000000</td>\n",
       "      <td>-499.000000</td>\n",
       "      <td>-9.179790e+18</td>\n",
       "      <td>1012.000000</td>\n",
       "      <td>1711.000000</td>\n",
       "      <td>0.000000</td>\n",
       "    </tr>\n",
       "    <tr>\n",
       "      <th>25%</th>\n",
       "      <td>0.0</td>\n",
       "      <td>0.000000</td>\n",
       "      <td>2007.000000</td>\n",
       "      <td>4.000000</td>\n",
       "      <td>8.000000</td>\n",
       "      <td>36.630000</td>\n",
       "      <td>-1.288080e+18</td>\n",
       "      <td>91750.000000</td>\n",
       "      <td>5311.000000</td>\n",
       "      <td>0.000000</td>\n",
       "    </tr>\n",
       "    <tr>\n",
       "      <th>50%</th>\n",
       "      <td>0.0</td>\n",
       "      <td>2.000000</td>\n",
       "      <td>2011.000000</td>\n",
       "      <td>7.000000</td>\n",
       "      <td>16.000000</td>\n",
       "      <td>69.450000</td>\n",
       "      <td>8.384250e+17</td>\n",
       "      <td>91750.000000</td>\n",
       "      <td>5499.000000</td>\n",
       "      <td>0.000000</td>\n",
       "    </tr>\n",
       "    <tr>\n",
       "      <th>75%</th>\n",
       "      <td>0.0</td>\n",
       "      <td>3.000000</td>\n",
       "      <td>2015.000000</td>\n",
       "      <td>10.000000</td>\n",
       "      <td>23.000000</td>\n",
       "      <td>125.680000</td>\n",
       "      <td>4.060650e+18</td>\n",
       "      <td>91752.000000</td>\n",
       "      <td>5912.000000</td>\n",
       "      <td>0.000000</td>\n",
       "    </tr>\n",
       "    <tr>\n",
       "      <th>max</th>\n",
       "      <td>0.0</td>\n",
       "      <td>4.000000</td>\n",
       "      <td>2020.000000</td>\n",
       "      <td>12.000000</td>\n",
       "      <td>31.000000</td>\n",
       "      <td>1409.400000</td>\n",
       "      <td>9.137770e+18</td>\n",
       "      <td>99504.000000</td>\n",
       "      <td>9402.000000</td>\n",
       "      <td>1.000000</td>\n",
       "    </tr>\n",
       "  </tbody>\n",
       "</table>\n",
       "</div>"
      ],
      "text/plain": [
       "          User          Card          Year         Month           Day  \\\n",
       "count  19963.0  19963.000000  19963.000000  19963.000000  19963.000000   \n",
       "mean       0.0      1.910735   2011.011922      6.568101     15.743876   \n",
       "std        0.0      1.237763      5.048146      3.477497      8.801378   \n",
       "min        0.0      0.000000   2002.000000      1.000000      1.000000   \n",
       "25%        0.0      0.000000   2007.000000      4.000000      8.000000   \n",
       "50%        0.0      2.000000   2011.000000      7.000000     16.000000   \n",
       "75%        0.0      3.000000   2015.000000     10.000000     23.000000   \n",
       "max        0.0      4.000000   2020.000000     12.000000     31.000000   \n",
       "\n",
       "             Amount  Merchant Name           Zip           MCC         Class  \n",
       "count  19963.000000   1.996300e+04  18316.000000  19963.000000  19963.000000  \n",
       "mean      81.299989   7.825657e+17  88812.744922   5617.940239      0.001353  \n",
       "std       94.159093   4.040602e+18  13711.491085    707.982901      0.036752  \n",
       "min     -499.000000  -9.179790e+18   1012.000000   1711.000000      0.000000  \n",
       "25%       36.630000  -1.288080e+18  91750.000000   5311.000000      0.000000  \n",
       "50%       69.450000   8.384250e+17  91750.000000   5499.000000      0.000000  \n",
       "75%      125.680000   4.060650e+18  91752.000000   5912.000000      0.000000  \n",
       "max     1409.400000   9.137770e+18  99504.000000   9402.000000      1.000000  "
      ]
     },
     "execution_count": 5,
     "metadata": {},
     "output_type": "execute_result"
    }
   ],
   "source": [
    "cc.describe() #gives statistical info of datasat"
   ]
  },
  {
   "cell_type": "code",
   "execution_count": 6,
   "id": "d1305440",
   "metadata": {},
   "outputs": [],
   "source": [
    "#creating variables\n",
    "not_fraud=len(cc[cc.Class==0])\n",
    "fraud=len(cc[cc.Class==1])"
   ]
  },
  {
   "cell_type": "code",
   "execution_count": 7,
   "id": "ce26b0ea",
   "metadata": {
    "scrolled": true
   },
   "outputs": [
    {
     "data": {
      "text/plain": [
       "0.13525021289385364"
      ]
     },
     "execution_count": 7,
     "metadata": {},
     "output_type": "execute_result"
    }
   ],
   "source": [
    "fraud_percent=(fraud/(fraud+not_fraud))*100\n",
    "fraud_percent \n",
    "#percent of fraud detected out of 100 0.13 fraud"
   ]
  },
  {
   "cell_type": "code",
   "execution_count": 8,
   "id": "9a452fde",
   "metadata": {},
   "outputs": [],
   "source": [
    "#normalization removing impact from data\n",
    "from sklearn.preprocessing import StandardScaler\n",
    "scaler=StandardScaler() #calling"
   ]
  },
  {
   "cell_type": "code",
   "execution_count": 9,
   "id": "d20e073f",
   "metadata": {},
   "outputs": [],
   "source": [
    "cc['Normalized_amount']=scaler.fit_transform(cc[\"Amount\"].values.reshape(-1,1))"
   ]
  },
  {
   "cell_type": "code",
   "execution_count": 10,
   "id": "d3f58850",
   "metadata": {
    "scrolled": true
   },
   "outputs": [],
   "source": [
    "cc.drop([\"Amount\"],inplace=True,axis=1) #deleting columns"
   ]
  },
  {
   "cell_type": "code",
   "execution_count": 11,
   "id": "30055278",
   "metadata": {
    "scrolled": false
   },
   "outputs": [
    {
     "data": {
      "text/html": [
       "<div>\n",
       "<style scoped>\n",
       "    .dataframe tbody tr th:only-of-type {\n",
       "        vertical-align: middle;\n",
       "    }\n",
       "\n",
       "    .dataframe tbody tr th {\n",
       "        vertical-align: top;\n",
       "    }\n",
       "\n",
       "    .dataframe thead th {\n",
       "        text-align: right;\n",
       "    }\n",
       "</style>\n",
       "<table border=\"1\" class=\"dataframe\">\n",
       "  <thead>\n",
       "    <tr style=\"text-align: right;\">\n",
       "      <th></th>\n",
       "      <th>User</th>\n",
       "      <th>Card</th>\n",
       "      <th>Year</th>\n",
       "      <th>Month</th>\n",
       "      <th>Day</th>\n",
       "      <th>Time</th>\n",
       "      <th>Merchant Name</th>\n",
       "      <th>Zip</th>\n",
       "      <th>MCC</th>\n",
       "      <th>Class</th>\n",
       "      <th>Normalized_amount</th>\n",
       "    </tr>\n",
       "  </thead>\n",
       "  <tbody>\n",
       "    <tr>\n",
       "      <th>0</th>\n",
       "      <td>0</td>\n",
       "      <td>0</td>\n",
       "      <td>2002</td>\n",
       "      <td>9</td>\n",
       "      <td>1</td>\n",
       "      <td>06:21</td>\n",
       "      <td>3.527210e+18</td>\n",
       "      <td>91750.0</td>\n",
       "      <td>5300</td>\n",
       "      <td>0</td>\n",
       "      <td>0.560661</td>\n",
       "    </tr>\n",
       "    <tr>\n",
       "      <th>1</th>\n",
       "      <td>0</td>\n",
       "      <td>0</td>\n",
       "      <td>2002</td>\n",
       "      <td>9</td>\n",
       "      <td>1</td>\n",
       "      <td>06:42</td>\n",
       "      <td>-7.276120e+17</td>\n",
       "      <td>91754.0</td>\n",
       "      <td>5411</td>\n",
       "      <td>0</td>\n",
       "      <td>-0.454774</td>\n",
       "    </tr>\n",
       "    <tr>\n",
       "      <th>2</th>\n",
       "      <td>0</td>\n",
       "      <td>0</td>\n",
       "      <td>2002</td>\n",
       "      <td>9</td>\n",
       "      <td>2</td>\n",
       "      <td>06:22</td>\n",
       "      <td>-7.276120e+17</td>\n",
       "      <td>91754.0</td>\n",
       "      <td>5411</td>\n",
       "      <td>0</td>\n",
       "      <td>0.414628</td>\n",
       "    </tr>\n",
       "    <tr>\n",
       "      <th>3</th>\n",
       "      <td>0</td>\n",
       "      <td>0</td>\n",
       "      <td>2002</td>\n",
       "      <td>9</td>\n",
       "      <td>2</td>\n",
       "      <td>17:45</td>\n",
       "      <td>3.414530e+18</td>\n",
       "      <td>91754.0</td>\n",
       "      <td>5651</td>\n",
       "      <td>0</td>\n",
       "      <td>0.506071</td>\n",
       "    </tr>\n",
       "    <tr>\n",
       "      <th>4</th>\n",
       "      <td>0</td>\n",
       "      <td>0</td>\n",
       "      <td>2002</td>\n",
       "      <td>9</td>\n",
       "      <td>3</td>\n",
       "      <td>06:23</td>\n",
       "      <td>5.817220e+18</td>\n",
       "      <td>91750.0</td>\n",
       "      <td>5912</td>\n",
       "      <td>0</td>\n",
       "      <td>0.248628</td>\n",
       "    </tr>\n",
       "  </tbody>\n",
       "</table>\n",
       "</div>"
      ],
      "text/plain": [
       "   User  Card  Year  Month  Day   Time  Merchant Name      Zip   MCC  Class  \\\n",
       "0     0     0  2002      9    1  06:21   3.527210e+18  91750.0  5300      0   \n",
       "1     0     0  2002      9    1  06:42  -7.276120e+17  91754.0  5411      0   \n",
       "2     0     0  2002      9    2  06:22  -7.276120e+17  91754.0  5411      0   \n",
       "3     0     0  2002      9    2  17:45   3.414530e+18  91754.0  5651      0   \n",
       "4     0     0  2002      9    3  06:23   5.817220e+18  91750.0  5912      0   \n",
       "\n",
       "   Normalized_amount  \n",
       "0           0.560661  \n",
       "1          -0.454774  \n",
       "2           0.414628  \n",
       "3           0.506071  \n",
       "4           0.248628  "
      ]
     },
     "execution_count": 11,
     "metadata": {},
     "output_type": "execute_result"
    }
   ],
   "source": [
    "cc.head()"
   ]
  },
  {
   "cell_type": "code",
   "execution_count": 12,
   "id": "6bd8c3ff",
   "metadata": {
    "scrolled": true
   },
   "outputs": [
    {
     "data": {
      "text/plain": [
       "User                    0\n",
       "Card                    0\n",
       "Year                    0\n",
       "Month                   0\n",
       "Day                     0\n",
       "Time                    0\n",
       "Merchant Name           0\n",
       "Zip                  1647\n",
       "MCC                     0\n",
       "Class                   0\n",
       "Normalized_amount       0\n",
       "dtype: int64"
      ]
     },
     "execution_count": 12,
     "metadata": {},
     "output_type": "execute_result"
    }
   ],
   "source": [
    "#cleaning the data\n",
    "cc.isnull().sum() #isnull is function name and doing summation of it"
   ]
  },
  {
   "cell_type": "code",
   "execution_count": 13,
   "id": "9c54c8ad",
   "metadata": {
    "scrolled": true
   },
   "outputs": [
    {
     "data": {
      "text/html": [
       "<div>\n",
       "<style scoped>\n",
       "    .dataframe tbody tr th:only-of-type {\n",
       "        vertical-align: middle;\n",
       "    }\n",
       "\n",
       "    .dataframe tbody tr th {\n",
       "        vertical-align: top;\n",
       "    }\n",
       "\n",
       "    .dataframe thead th {\n",
       "        text-align: right;\n",
       "    }\n",
       "</style>\n",
       "<table border=\"1\" class=\"dataframe\">\n",
       "  <thead>\n",
       "    <tr style=\"text-align: right;\">\n",
       "      <th></th>\n",
       "      <th>User</th>\n",
       "      <th>Card</th>\n",
       "      <th>Year</th>\n",
       "      <th>Month</th>\n",
       "      <th>Day</th>\n",
       "      <th>Time</th>\n",
       "      <th>Merchant Name</th>\n",
       "      <th>Zip</th>\n",
       "      <th>MCC</th>\n",
       "      <th>Class</th>\n",
       "      <th>Normalized_amount</th>\n",
       "    </tr>\n",
       "  </thead>\n",
       "  <tbody>\n",
       "    <tr>\n",
       "      <th>0</th>\n",
       "      <td>0</td>\n",
       "      <td>0</td>\n",
       "      <td>2002</td>\n",
       "      <td>9</td>\n",
       "      <td>1</td>\n",
       "      <td>06:21</td>\n",
       "      <td>3.527210e+18</td>\n",
       "      <td>91750.0</td>\n",
       "      <td>5300</td>\n",
       "      <td>0</td>\n",
       "      <td>0.560661</td>\n",
       "    </tr>\n",
       "    <tr>\n",
       "      <th>1</th>\n",
       "      <td>0</td>\n",
       "      <td>0</td>\n",
       "      <td>2002</td>\n",
       "      <td>9</td>\n",
       "      <td>1</td>\n",
       "      <td>06:42</td>\n",
       "      <td>-7.276120e+17</td>\n",
       "      <td>91754.0</td>\n",
       "      <td>5411</td>\n",
       "      <td>0</td>\n",
       "      <td>-0.454774</td>\n",
       "    </tr>\n",
       "    <tr>\n",
       "      <th>2</th>\n",
       "      <td>0</td>\n",
       "      <td>0</td>\n",
       "      <td>2002</td>\n",
       "      <td>9</td>\n",
       "      <td>2</td>\n",
       "      <td>06:22</td>\n",
       "      <td>-7.276120e+17</td>\n",
       "      <td>91754.0</td>\n",
       "      <td>5411</td>\n",
       "      <td>0</td>\n",
       "      <td>0.414628</td>\n",
       "    </tr>\n",
       "    <tr>\n",
       "      <th>3</th>\n",
       "      <td>0</td>\n",
       "      <td>0</td>\n",
       "      <td>2002</td>\n",
       "      <td>9</td>\n",
       "      <td>2</td>\n",
       "      <td>17:45</td>\n",
       "      <td>3.414530e+18</td>\n",
       "      <td>91754.0</td>\n",
       "      <td>5651</td>\n",
       "      <td>0</td>\n",
       "      <td>0.506071</td>\n",
       "    </tr>\n",
       "    <tr>\n",
       "      <th>4</th>\n",
       "      <td>0</td>\n",
       "      <td>0</td>\n",
       "      <td>2002</td>\n",
       "      <td>9</td>\n",
       "      <td>3</td>\n",
       "      <td>06:23</td>\n",
       "      <td>5.817220e+18</td>\n",
       "      <td>91750.0</td>\n",
       "      <td>5912</td>\n",
       "      <td>0</td>\n",
       "      <td>0.248628</td>\n",
       "    </tr>\n",
       "    <tr>\n",
       "      <th>...</th>\n",
       "      <td>...</td>\n",
       "      <td>...</td>\n",
       "      <td>...</td>\n",
       "      <td>...</td>\n",
       "      <td>...</td>\n",
       "      <td>...</td>\n",
       "      <td>...</td>\n",
       "      <td>...</td>\n",
       "      <td>...</td>\n",
       "      <td>...</td>\n",
       "      <td>...</td>\n",
       "    </tr>\n",
       "    <tr>\n",
       "      <th>19958</th>\n",
       "      <td>0</td>\n",
       "      <td>4</td>\n",
       "      <td>2009</td>\n",
       "      <td>2</td>\n",
       "      <td>12</td>\n",
       "      <td>13:03</td>\n",
       "      <td>4.060650e+18</td>\n",
       "      <td>91750.0</td>\n",
       "      <td>5411</td>\n",
       "      <td>0</td>\n",
       "      <td>-0.760328</td>\n",
       "    </tr>\n",
       "    <tr>\n",
       "      <th>19959</th>\n",
       "      <td>0</td>\n",
       "      <td>4</td>\n",
       "      <td>2009</td>\n",
       "      <td>2</td>\n",
       "      <td>22</td>\n",
       "      <td>11:58</td>\n",
       "      <td>-8.129520e+18</td>\n",
       "      <td>91750.0</td>\n",
       "      <td>5211</td>\n",
       "      <td>0</td>\n",
       "      <td>-0.566715</td>\n",
       "    </tr>\n",
       "    <tr>\n",
       "      <th>19960</th>\n",
       "      <td>0</td>\n",
       "      <td>4</td>\n",
       "      <td>2009</td>\n",
       "      <td>2</td>\n",
       "      <td>24</td>\n",
       "      <td>16:53</td>\n",
       "      <td>5.474320e+18</td>\n",
       "      <td>90250.0</td>\n",
       "      <td>5912</td>\n",
       "      <td>0</td>\n",
       "      <td>-0.715084</td>\n",
       "    </tr>\n",
       "    <tr>\n",
       "      <th>19961</th>\n",
       "      <td>0</td>\n",
       "      <td>4</td>\n",
       "      <td>2009</td>\n",
       "      <td>3</td>\n",
       "      <td>29</td>\n",
       "      <td>16:30</td>\n",
       "      <td>4.060650e+18</td>\n",
       "      <td>91750.0</td>\n",
       "      <td>5411</td>\n",
       "      <td>0</td>\n",
       "      <td>-0.711898</td>\n",
       "    </tr>\n",
       "    <tr>\n",
       "      <th>19962</th>\n",
       "      <td>0</td>\n",
       "      <td>4</td>\n",
       "      <td>2009</td>\n",
       "      <td>3</td>\n",
       "      <td>31</td>\n",
       "      <td>13:17</td>\n",
       "      <td>-4.927380e+18</td>\n",
       "      <td>91750.0</td>\n",
       "      <td>5812</td>\n",
       "      <td>0</td>\n",
       "      <td>-0.719545</td>\n",
       "    </tr>\n",
       "  </tbody>\n",
       "</table>\n",
       "<p>19963 rows × 11 columns</p>\n",
       "</div>"
      ],
      "text/plain": [
       "       User  Card  Year  Month  Day   Time  Merchant Name      Zip   MCC  \\\n",
       "0         0     0  2002      9    1  06:21   3.527210e+18  91750.0  5300   \n",
       "1         0     0  2002      9    1  06:42  -7.276120e+17  91754.0  5411   \n",
       "2         0     0  2002      9    2  06:22  -7.276120e+17  91754.0  5411   \n",
       "3         0     0  2002      9    2  17:45   3.414530e+18  91754.0  5651   \n",
       "4         0     0  2002      9    3  06:23   5.817220e+18  91750.0  5912   \n",
       "...     ...   ...   ...    ...  ...    ...            ...      ...   ...   \n",
       "19958     0     4  2009      2   12  13:03   4.060650e+18  91750.0  5411   \n",
       "19959     0     4  2009      2   22  11:58  -8.129520e+18  91750.0  5211   \n",
       "19960     0     4  2009      2   24  16:53   5.474320e+18  90250.0  5912   \n",
       "19961     0     4  2009      3   29  16:30   4.060650e+18  91750.0  5411   \n",
       "19962     0     4  2009      3   31  13:17  -4.927380e+18  91750.0  5812   \n",
       "\n",
       "       Class  Normalized_amount  \n",
       "0          0           0.560661  \n",
       "1          0          -0.454774  \n",
       "2          0           0.414628  \n",
       "3          0           0.506071  \n",
       "4          0           0.248628  \n",
       "...      ...                ...  \n",
       "19958      0          -0.760328  \n",
       "19959      0          -0.566715  \n",
       "19960      0          -0.715084  \n",
       "19961      0          -0.711898  \n",
       "19962      0          -0.719545  \n",
       "\n",
       "[19963 rows x 11 columns]"
      ]
     },
     "execution_count": 13,
     "metadata": {},
     "output_type": "execute_result"
    }
   ],
   "source": [
    "from sklearn.impute import SimpleImputer #class to fill missing values\n",
    "imputer = SimpleImputer(strategy='most_frequent',missing_values=np.nan)\n",
    "imputer = imputer.fit(cc)\n",
    "cc.iloc[:,:] = imputer.transform(cc)\n",
    "cc"
   ]
  },
  {
   "cell_type": "code",
   "execution_count": 14,
   "id": "38757476",
   "metadata": {},
   "outputs": [],
   "source": [
    "cc[\"Time\"]=pd.to_datetime(cc[\"Time\"], format='%H:%M').dt.hour #extracting the hour component of a datetime column \n",
    "#split data in train and test\n",
    "#for all independent variables\n",
    "x=cc.drop([\"Class\"],axis=1)\n",
    "#for all dependent variables\n",
    "y=cc[\"Class\"]"
   ]
  },
  {
   "cell_type": "code",
   "execution_count": 15,
   "id": "dc674599",
   "metadata": {},
   "outputs": [],
   "source": [
    "#spliting\n",
    "from sklearn.model_selection import train_test_split\n",
    "x_train,x_test,y_train,y_test=train_test_split(x,y,test_size=0.3,random_state=1)#0.3 means 70-30 partition"
   ]
  },
  {
   "cell_type": "code",
   "execution_count": 16,
   "id": "9bdb4d8c",
   "metadata": {
    "scrolled": true
   },
   "outputs": [
    {
     "data": {
      "image/png": "[encoded data removed]",
      "text/plain": [
       "<Figure size 1200x900 with 2 Axes>"
      ]
     },
     "metadata": {},
     "output_type": "display_data"
    }
   ],
   "source": [
    "#visualizing the pairwise correlation between the columns\n",
    "import seaborn as sns\n",
    "corrmat = cc.corr()\n",
    "fig = plt.figure(figsize = (12, 9))\n",
    "sns.heatmap(corrmat, vmax = .8, square = True)\n",
    "plt.show()"
   ]
  },
  {
   "cell_type": "code",
   "execution_count": 17,
   "id": "775f37c7",
   "metadata": {},
   "outputs": [
    {
     "data": {
      "text/plain": [
       "(13974, 10)"
      ]
     },
     "execution_count": 17,
     "metadata": {},
     "output_type": "execute_result"
    }
   ],
   "source": [
    "x_train.shape #create the model"
   ]
  },
  {
   "cell_type": "code",
   "execution_count": 18,
   "id": "c2fa1065",
   "metadata": {},
   "outputs": [
    {
     "data": {
      "text/plain": [
       "(5989, 10)"
      ]
     },
     "execution_count": 18,
     "metadata": {},
     "output_type": "execute_result"
    }
   ],
   "source": [
    "x_test.shape #test the model"
   ]
  },
  {
   "cell_type": "code",
   "execution_count": 19,
   "id": "069fc6c4",
   "metadata": {
    "scrolled": true
   },
   "outputs": [],
   "source": [
    "#create a model \n",
    "from sklearn.ensemble import RandomForestClassifier"
   ]
  },
  {
   "cell_type": "code",
   "execution_count": 20,
   "id": "7df0da08",
   "metadata": {},
   "outputs": [],
   "source": [
    "rf1 = RandomForestClassifier(n_estimators=20000)"
   ]
  },
  {
   "cell_type": "code",
   "execution_count": 21,
   "id": "4839555a",
   "metadata": {
    "scrolled": false
   },
   "outputs": [
    {
     "data": {
      "text/html": [
       "<style>#sk-container-id-1 {color: black;background-color: white;}#sk-container-id-1 pre{padding: 0;}#sk-container-id-1 div.sk-toggleable {background-color: white;}#sk-container-id-1 label.sk-toggleable__label {cursor: pointer;display: block;width: 100%;margin-bottom: 0;padding: 0.3em;box-sizing: border-box;text-align: center;}#sk-container-id-1 label.sk-toggleable__label-arrow:before {content: \"▸\";float: left;margin-right: 0.25em;color: #696969;}#sk-container-id-1 label.sk-toggleable__label-arrow:hover:before {color: black;}#sk-container-id-1 div.sk-estimator:hover label.sk-toggleable__label-arrow:before {color: black;}#sk-container-id-1 div.sk-toggleable__content {max-height: 0;max-width: 0;overflow: hidden;text-align: left;background-color: #f0f8ff;}#sk-container-id-1 div.sk-toggleable__content pre {margin: 0.2em;color: black;border-radius: 0.25em;background-color: #f0f8ff;}#sk-container-id-1 input.sk-toggleable__control:checked~div.sk-toggleable__content {max-height: 200px;max-width: 100%;overflow: auto;}#sk-container-id-1 input.sk-toggleable__control:checked~label.sk-toggleable__label-arrow:before {content: \"▾\";}#sk-container-id-1 div.sk-estimator input.sk-toggleable__control:checked~label.sk-toggleable__label {background-color: #d4ebff;}#sk-container-id-1 div.sk-label input.sk-toggleable__control:checked~label.sk-toggleable__label {background-color: #d4ebff;}#sk-container-id-1 input.sk-hidden--visually {border: 0;clip: rect(1px 1px 1px 1px);clip: rect(1px, 1px, 1px, 1px);height: 1px;margin: -1px;overflow: hidden;padding: 0;position: absolute;width: 1px;}#sk-container-id-1 div.sk-estimator {font-family: monospace;background-color: #f0f8ff;border: 1px dotted black;border-radius: 0.25em;box-sizing: border-box;margin-bottom: 0.5em;}#sk-container-id-1 div.sk-estimator:hover {background-color: #d4ebff;}#sk-container-id-1 div.sk-parallel-item::after {content: \"\";width: 100%;border-bottom: 1px solid gray;flex-grow: 1;}#sk-container-id-1 div.sk-label:hover label.sk-toggleable__label {background-color: #d4ebff;}#sk-container-id-1 div.sk-serial::before {content: \"\";position: absolute;border-left: 1px solid gray;box-sizing: border-box;top: 0;bottom: 0;left: 50%;z-index: 0;}#sk-container-id-1 div.sk-serial {display: flex;flex-direction: column;align-items: center;background-color: white;padding-right: 0.2em;padding-left: 0.2em;position: relative;}#sk-container-id-1 div.sk-item {position: relative;z-index: 1;}#sk-container-id-1 div.sk-parallel {display: flex;align-items: stretch;justify-content: center;background-color: white;position: relative;}#sk-container-id-1 div.sk-item::before, #sk-container-id-1 div.sk-parallel-item::before {content: \"\";position: absolute;border-left: 1px solid gray;box-sizing: border-box;top: 0;bottom: 0;left: 50%;z-index: -1;}#sk-container-id-1 div.sk-parallel-item {display: flex;flex-direction: column;z-index: 1;position: relative;background-color: white;}#sk-container-id-1 div.sk-parallel-item:first-child::after {align-self: flex-end;width: 50%;}#sk-container-id-1 div.sk-parallel-item:last-child::after {align-self: flex-start;width: 50%;}#sk-container-id-1 div.sk-parallel-item:only-child::after {width: 0;}#sk-container-id-1 div.sk-dashed-wrapped {border: 1px dashed gray;margin: 0 0.4em 0.5em 0.4em;box-sizing: border-box;padding-bottom: 0.4em;background-color: white;}#sk-container-id-1 div.sk-label label {font-family: monospace;font-weight: bold;display: inline-block;line-height: 1.2em;}#sk-container-id-1 div.sk-label-container {text-align: center;}#sk-container-id-1 div.sk-container {/* jupyter's `normalize.less` sets `[hidden] { display: none; }` but bootstrap.min.css set `[hidden] { display: none !important; }` so we also need the `!important` here to be able to override the default hidden behavior on the sphinx rendered scikit-learn.org. See: https://github.com/scikit-learn/scikit-learn/issues/21755 */display: inline-block !important;position: relative;}#sk-container-id-1 div.sk-text-repr-fallback {display: none;}</style><div id=\"sk-container-id-1\" class=\"sk-top-container\"><div class=\"sk-text-repr-fallback\"><pre>RandomForestClassifier(n_estimators=20000)</pre><b>In a Jupyter environment, please rerun this cell to show the HTML representation or trust the notebook. <br />On GitHub, the HTML representation is unable to render, please try loading this page with nbviewer.org.</b></div><div class=\"sk-container\" hidden><div class=\"sk-item\"><div class=\"sk-estimator sk-toggleable\"><input class=\"sk-toggleable__control sk-hidden--visually\" id=\"sk-estimator-id-1\" type=\"checkbox\" checked><label for=\"sk-estimator-id-1\" class=\"sk-toggleable__label sk-toggleable__label-arrow\">RandomForestClassifier</label><div class=\"sk-toggleable__content\"><pre>RandomForestClassifier(n_estimators=20000)</pre></div></div></div></div></div>"
      ],
      "text/plain": [
       "RandomForestClassifier(n_estimators=20000)"
      ]
     },
     "execution_count": 21,
     "metadata": {},
     "output_type": "execute_result"
    }
   ],
   "source": [
    "rf1.fit(x_train, y_train) #pass train dataset"
   ]
  },
  {
   "cell_type": "code",
   "execution_count": 22,
   "id": "adcee904",
   "metadata": {},
   "outputs": [],
   "source": [
    "prediction_rf=rf1.predict(x_test) #function to predict"
   ]
  },
  {
   "cell_type": "code",
   "execution_count": 23,
   "id": "37689143",
   "metadata": {},
   "outputs": [],
   "source": [
    "rf_score=rf1.score(x_test,y_test)*100"
   ]
  },
  {
   "cell_type": "code",
   "execution_count": 24,
   "id": "09308294",
   "metadata": {},
   "outputs": [
    {
     "data": {
      "text/plain": [
       "99.83302721656369"
      ]
     },
     "execution_count": 24,
     "metadata": {},
     "output_type": "execute_result"
    }
   ],
   "source": [
    "rf_score"
   ]
  },
  {
   "cell_type": "code",
   "execution_count": 25,
   "id": "c0b568a5",
   "metadata": {},
   "outputs": [
    {
     "data": {
      "image/png": "[encoded data removed]",
      "text/plain": [
       "<Figure size 640x480 with 1 Axes>"
      ]
     },
     "metadata": {},
     "output_type": "display_data"
    }
   ],
   "source": [
    "from sklearn.metrics import confusion_matrix\n",
    "class_names = ['not_fraud', 'fraud']\n",
    "matrix = confusion_matrix(y_test, prediction_rf)\n",
    "# Create pandas dataframe\n",
    "dataframe = pd.DataFrame(matrix, index=class_names, columns=class_names)\n",
    "# Create heatmap\n",
    "sns.heatmap(dataframe, annot=True, cbar=None, cmap=\"Blues\", fmt = 'g')\n",
    "plt.title(\"Confusion Matrix\"), plt.tight_layout()\n",
    "plt.ylabel(\"True Class\"), plt.xlabel(\"Predicted Class\")\n",
    "plt.show()"
   ]
  },
  {
   "cell_type": "code",
   "execution_count": 26,
   "id": "9578ce99",
   "metadata": {},
   "outputs": [],
   "source": [
    "import tkinter as tk\n",
    "from tkinter import messagebox\n",
    "from datetime import datetime"
   ]
  },
  {
   "cell_type": "code",
   "execution_count": null,
   "id": "7ddbe46a",
   "metadata": {},
   "outputs": [],
   "source": [
    "# Define the tkinter window\n",
    "window = tk.Tk()\n",
    "window.title(\"Credit Card Transfer\")\n",
    "\n",
    "# Define the labels for the input fields\n",
    "year_label = tk.Label(window, text=\"Year of Expiration \")\n",
    "month_label = tk.Label(window, text=\"Month of Expiration\")\n",
    "day_label = tk.Label(window, text=\"Day of Expiration\")\n",
    "time_label = tk.Label(window, text=\"Enter current Time\")\n",
    "merchant_label = tk.Label(window, text=\"Credit Card Number\")\n",
    "zip_label = tk.Label(window, text=\"Zip Number\")\n",
    "mcc_label = tk.Label(window, text=\"MCC\")\n",
    "amount_label = tk.Label(window, text=\"Amount to transfer\")\n",
    "\n",
    "# Define the entry fields for the input values\n",
    "year_entry = tk.Entry(window)\n",
    "month_entry = tk.Entry(window)\n",
    "day_entry = tk.Entry(window)\n",
    "time_entry = tk.Entry(window)\n",
    "merchant_entry = tk.Entry(window)\n",
    "zip_entry = tk.Entry(window)\n",
    "mcc_entry = tk.Entry(window)\n",
    "amount_entry = tk.Entry(window)\n",
    "\n",
    "# Define the submit button\n",
    "def check_transaction():\n",
    "    # Get the values entered by the user\n",
    "    year_val = year_entry.get()\n",
    "    month_val = month_entry.get()\n",
    "    day_val = day_entry.get()\n",
    "    time_val = time_entry.get()\n",
    "    merchant_val = merchant_entry.get()\n",
    "    zip_val = zip_entry.get()\n",
    "    mcc_val = mcc_entry.get()\n",
    "    amount_val = amount_entry.get()\n",
    "    \n",
    "    # Validate the input values\n",
    "    try:\n",
    "        year_val = int(year_val)\n",
    "        month_val = int(month_val)\n",
    "        day_val = int(day_val)\n",
    "        zip_val = int(zip_val)\n",
    "        time_val = int(time_val.split(':')[0])\n",
    "    except ValueError:\n",
    "        mcc_val = int(mcc_val)\n",
    "        amount_val = float(amount_val)\n",
    "    except ValueError:\n",
    "        tk.messagebox.showerror(\"Error\", \"Invalid input!\")\n",
    "        return\n",
    "    \n",
    "    # Create a new transaction record with the input values\n",
    "    transaction = pd.DataFrame({\n",
    "        \"User\": [0],\n",
    "        \"Card\": [0],\n",
    "        \"Year\": [year_val],\n",
    "        \"Month\": [month_val],\n",
    "        \"Day\": [day_val],\n",
    "        \"Time\": [time_val],\n",
    "        \"Merchant Name\": [merchant_val],\n",
    "        \"Zip\": [zip_val],\n",
    "        \"MCC\": [mcc_val],\n",
    "        \"Class\": [1],\n",
    "        \"Normalized_amount\": [amount_val]\n",
    "    })\n",
    "    \n",
    "    # Use the trained model to predict the transaction class\n",
    "    prediction = rf1.predict(transaction.drop([\"Class\"], axis=1))\n",
    "    \n",
    "    # Show the prediction result\n",
    "    if prediction == 1:\n",
    "        tk.messagebox.showwarning(\"Warning\", \"Fraudulent transaction detected!\")\n",
    "    else:\n",
    "        tk.messagebox.showinfo(\"Success\", \"Transaction approved.\")\n",
    "\n",
    "submit_button = tk.Button(window, text=\"Submit\", command=check_transaction)\n",
    "\n",
    "# Place the labels and entry fields in the window\n",
    "\n",
    "year_label.grid(row=2, column=0)\n",
    "year_entry.grid(row=2, column=1)\n",
    "month_label.grid(row=3, column=0)\n",
    "month_entry.grid(row=3, column=1)\n",
    "day_label.grid(row=4, column=0)\n",
    "day_entry.grid(row=4, column=1)\n",
    "time_label.grid(row=5, column=0)\n",
    "time_entry.grid(row=5, column=1)\n",
    "merchant_label.grid(row=6, column=0)\n",
    "merchant_entry.grid(row=6, column=1)\n",
    "zip_label.grid(row=7, column=0)\n",
    "zip_entry.grid(row=7, column=1)\n",
    "mcc_label.grid(row=8, column=0)\n",
    "mcc_entry.grid(row=8, column=1)\n",
    "amount_label.grid(row=9, column=0)\n",
    "amount_entry.grid(row=9, column=1)\n",
    "submit_button.grid(row=11, column=1)\n",
    "\n",
    "\n",
    "window.mainloop()"
   ]
  }
 ],
 "metadata": {
  "kernelspec": {
   "display_name": "Python 3 (ipykernel)",
   "language": "python",
   "name": "python3"
  },
  "language_info": {
   "codemirror_mode": {
    "name": "ipython",
    "version": 3
   },
   "file_extension": ".py",
   "mimetype": "text/x-python",
   "name": "python",
   "nbconvert_exporter": "python",
   "pygments_lexer": "ipython3",
   "version": "3.10.7"
  }
 },
 "nbformat": 4,
 "nbformat_minor": 5
}
